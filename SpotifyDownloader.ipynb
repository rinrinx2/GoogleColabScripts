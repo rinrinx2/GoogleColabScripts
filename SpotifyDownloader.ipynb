{
  "nbformat": 4,
  "nbformat_minor": 0,
  "metadata": {
    "colab": {
      "name": "SpotifyDownloader",
      "provenance": [],
      "collapsed_sections": [],
      "authorship_tag": "ABX9TyNdQkOAOb3onnvjVid4GV7+",
      "include_colab_link": true
    },
    "kernelspec": {
      "name": "python3",
      "display_name": "Python 3"
    },
    "language_info": {
      "name": "python"
    }
  },
  "cells": [
    {
      "cell_type": "markdown",
      "metadata": {
        "id": "view-in-github",
        "colab_type": "text"
      },
      "source": [
        "<a href=\"https://colab.research.google.com/github/theDemon92/GoogleColabScripts/blob/main/SpotifyDownloader.ipynb\" target=\"_parent\"><img src=\"https://colab.research.google.com/assets/colab-badge.svg\" alt=\"Open In Colab\"/></a>"
      ]
    },
    {
      "cell_type": "markdown",
      "metadata": {
        "id": "DNsivmHGlYw6"
      },
      "source": [
        "#Spotify Downloader"
      ]
    },
    {
      "cell_type": "markdown",
      "metadata": {
        "id": "SuNTwkGgkOEo"
      },
      "source": [
        "####Requirements"
      ]
    },
    {
      "cell_type": "code",
      "metadata": {
        "id": "hwkWJTc-kIPi"
      },
      "source": [
        "!sudo add-apt-repository ppa:jonathonf/ffmpeg-4 -y\n",
        "!sudo apt install ffmpeg\n",
        "!pip install spotdl \n",
        "import shutil\n",
        "shutil.rmtree(\"/content/sample_data\")"
      ],
      "execution_count": null,
      "outputs": []
    },
    {
      "cell_type": "markdown",
      "metadata": {
        "id": "JWH_OJHg2cg8"
      },
      "source": [
        "#Google Drive Mount"
      ]
    },
    {
      "cell_type": "code",
      "metadata": {
        "id": "BezFT73i2eag"
      },
      "source": [
        "from google.colab import drive\n",
        "drive.mount('/content/drive')"
      ],
      "execution_count": null,
      "outputs": []
    },
    {
      "cell_type": "markdown",
      "metadata": {
        "id": "WHVI_Y3-ukYp"
      },
      "source": [
        "#Magic"
      ]
    },
    {
      "cell_type": "code",
      "metadata": {
        "id": "CC2FSXLbkNbG"
      },
      "source": [
        "import shutil\n",
        "import time\n",
        "!rm -r /content/*\n",
        "spotifyurl = \"https://open.spotify.com/playlist/544Z0eF6BZPhvNZOxtwOOj?si=75625b8b79b8469d\"#@param {type: \"string\"}\n",
        "NumberOfThreads = 10#@param {type: \"number\"}\n",
        "NumberOfTracksToSearch =  30#@param {type:\"number\"}\n",
        "ZIP =True#@param {type:\"boolean\"}\n",
        "ZIP_NAME = \"Songs\"#@param {type: \"string\"}\n",
        "Google_Drive_Copy_location = \"Songs\"#@param {type: \"string\"}\n",
        "!spotdl '$spotifyurl' --st \"$NumberOfTracksToSearch\" --dt \"$NumberOfThreads\"\n",
        "if ZIP == False:\n",
        "  pass\n",
        "else:\n",
        "  print(\"Making Archive\")\n",
        "  os.system(\"zip \"+ZIP_NAME+\".zip *mp3\")\n",
        "print(\"\\nCopying to Google Drive: \")\n",
        "shutil.copy(ZIP_NAME+\".zip\",Google_Drive_Copy_location)\n",
        "\n"
      ],
      "execution_count": null,
      "outputs": []
    }
  ]
}