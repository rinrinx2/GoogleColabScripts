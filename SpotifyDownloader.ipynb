{
  "nbformat": 4,
  "nbformat_minor": 0,
  "metadata": {
    "colab": {
      "name": "SpotifyDownloader",
      "provenance": [],
      "collapsed_sections": [],
      "authorship_tag": "ABX9TyM7fTyKdVJZnliwjSI3iV24",
      "include_colab_link": true
    },
    "kernelspec": {
      "name": "python3",
      "display_name": "Python 3"
    },
    "language_info": {
      "name": "python"
    }
  },
  "cells": [
    {
      "cell_type": "markdown",
      "metadata": {
        "id": "view-in-github",
        "colab_type": "text"
      },
      "source": [
        "<a href=\"https://colab.research.google.com/github/theDemon92/GoogleColabScripts/blob/main/SpotifyDownloader.ipynb\" target=\"_parent\"><img src=\"https://colab.research.google.com/assets/colab-badge.svg\" alt=\"Open In Colab\"/></a>"
      ]
    },
    {
      "cell_type": "markdown",
      "metadata": {
        "id": "DNsivmHGlYw6"
      },
      "source": [
        "#Spotify Downloader"
      ]
    },
    {
      "cell_type": "markdown",
      "metadata": {
        "id": "SuNTwkGgkOEo"
      },
      "source": [
        "####Requirements"
      ]
    },
    {
      "cell_type": "code",
      "metadata": {
        "id": "hwkWJTc-kIPi"
      },
      "source": [
        "!sudo add-apt-repository ppa:jonathonf/ffmpeg-4 -y\n",
        "!sudo apt install ffmpeg\n",
        "!pip install spotdl \n",
        "\n",
        "import shutil\n",
        "shutil.rmtree(\"/content/sample_data\")"
      ],
      "execution_count": null,
      "outputs": []
    },
    {
      "cell_type": "markdown",
      "metadata": {
        "id": "WHVI_Y3-ukYp"
      },
      "source": [
        "####Magic"
      ]
    },
    {
      "cell_type": "code",
      "metadata": {
        "id": "CC2FSXLbkNbG",
        "colab": {
          "base_uri": "https://localhost:8080/"
        },
        "cellView": "form",
        "outputId": "d112fcc6-c93d-41b6-cbf3-f7b2e730d546"
      },
      "source": [
        "import shutil\n",
        "import time\n",
        "!rm -r /content/*\n",
        "spotifyurl = \"https://open.spotify.com/playlist/544Z0eF6BZPhvNZOxtwOOj?si=75625b8b79b8469d\"#@param {type: \"string\"}\n",
        "NumberOfThreads = 10#@param {type: \"number\"}\n",
        "NumberOfTracksToSearch =  30#@param {type:\"number\"}\n",
        "ZIP =True#@param {type:\"boolean\"}\n",
        "ZIP_NAME = \"Songs\"#@param {type: \"string\"}\n",
        "\n",
        "# os.system(\"!spotdl \"+spotifyurl+\" --st \"+str(NumberOfTracksToSearch)+\" --dt \"+str(NumberOfTracksToSearch))\n",
        "!spotdl '$spotifyurl' --st \"$NumberOfTracksToSearch\" --dt \"$NumberOfThreads\"\n",
        "if ZIP == False:\n",
        "  pass\n",
        "else:\n",
        "  print(\"Making Archive\")\n",
        "  os.system(\"zip \"+ZIP_NAME+\".zip *mp3\")\n",
        "\n",
        "\n"
      ],
      "execution_count": null,
      "outputs": [
        {
          "output_type": "stream",
          "name": "stdout",
          "text": [
            "\r\u001b[2K\u001b[1A\u001b[2K\u001b[1A\u001b[2K\u001b[1A\u001b[2K\u001b[1A\u001b[2K\u001b[1A\u001b[2K\u001b[1A\u001b[2K\u001b[1A\u001b[2K\u001b[1A\u001b[2K\u001b[1A\u001b[2K\u001b[1A\u001b[2K\u001b[1A\u001b[2K\u001b[1A\u001b[2K\u001b[1A\u001b[2K\u001b[1A\u001b[2K\u001b[1A\u001b[2K\u001b[1A\u001b[2K\u001b[1A\u001b[2K\u001b[1A\u001b[2K\u001b[1A\u001b[2K\u001b[1A\u001b[2K\u001b[1A\u001b[2K\u001b[1A\u001b[2K\u001b[1A\u001b[2K\u001b[1A\u001b[2K\u001b[37mTotal\u001b[0m                    \u001b[38;2;40;100;40m103/147 complete  \u001b[0m \u001b[38;2;165;66;129m━━━━━━━━━━━━━━━━━\u001b[0m\u001b[38;5;237m╺\u001b[0m\u001b[38;5;237m━━━━━\u001b[0m \u001b[32m 76%\u001b[0m \u001b[38;2;40;100;40m0:04:19\u001b[0m\n",
            "\u001b[37mShankar Mahadevan - Maa\u001b[0m  \u001b[38;2;40;100;40mDone              \u001b[0m \u001b[32m━━━━━━━━━━━━━━━━━━━━━━━\u001b[0m \u001b[32m100%\u001b[0m \u001b[38;2;40;100;40m0:00:00\u001b[0m\n",
            "\u001b[37mA.R. Rahman - Yeh Jo Des\u001b[0m \u001b[38;2;40;100;40mDone              \u001b[0m \u001b[32m━━━━━━━━━━━━━━━━━━━━━━━\u001b[0m \u001b[32m100%\u001b[0m \u001b[38;2;40;100;40m0:00:00\u001b[0m\n",
            "\u001b[37m…\u001b[0m                                                                               \n",
            "\u001b[37mHarshit Saxena - Hale \u001b[0m   \u001b[38;2;40;100;40mDone              \u001b[0m \u001b[32m━━━━━━━━━━━━━━━━━━━━━━━\u001b[0m \u001b[32m100%\u001b[0m \u001b[38;2;40;100;40m0:00:00\u001b[0m\n",
            "\u001b[37mDil\u001b[0m                                                                             \n",
            "\u001b[37mMadan Mohan, Lata \u001b[0m       \u001b[38;2;40;100;40mDone              \u001b[0m \u001b[32m━━━━━━━━━━━━━━━━━━━━━━━\u001b[0m \u001b[32m100%\u001b[0m \u001b[38;2;40;100;40m0:00:00\u001b[0m\n",
            "\u001b[37mMangesh…\u001b[0m                                                                        \n",
            "\u001b[37mPalak Muchhal, Arijit \u001b[0m   \u001b[38;2;40;100;40mDone              \u001b[0m \u001b[32m━━━━━━━━━━━━━━━━━━━━━━━\u001b[0m \u001b[32m100%\u001b[0m \u001b[38;2;40;100;40m0:00:00\u001b[0m\n",
            "\u001b[37mSin…\u001b[0m                                                                            \n",
            "\u001b[37mShaan, Shantanu Moitra -\u001b[0m \u001b[38;2;40;100;40mDone              \u001b[0m \u001b[32m━━━━━━━━━━━━━━━━━━━━━━━\u001b[0m \u001b[32m100%\u001b[0m \u001b[38;2;40;100;40m0:00:00\u001b[0m\n",
            "\u001b[37m…\u001b[0m                                                                               \n",
            "\u001b[37mMohit Chauhan, Suzanne \u001b[0m  \u001b[38;2;40;100;40mDone              \u001b[0m \u001b[32m━━━━━━━━━━━━━━━━━━━━━━━\u001b[0m \u001b[32m100%\u001b[0m \u001b[38;2;40;100;40m0:00:00\u001b[0m\n",
            "\u001b[37mD'…\u001b[0m                                                                             \n",
            "\u001b[37mA.R. Rahman, Javed Ali, \u001b[0m \u001b[38;2;40;100;40mDone              \u001b[0m \u001b[32m━━━━━━━━━━━━━━━━━━━━━━━\u001b[0m \u001b[32m100%\u001b[0m \u001b[38;2;40;100;40m0:00:00\u001b[0m\n",
            "\u001b[37mM…\u001b[0m                                                                              \n",
            "\u001b[37mMohit Chauhan - Phir Se \u001b[0m \u001b[38;2;40;100;40mDone              \u001b[0m \u001b[32m━━━━━━━━━━━━━━━━━━━━━━━\u001b[0m \u001b[32m100%\u001b[0m \u001b[38;2;40;100;40m0:00:00\u001b[0m\n",
            "\u001b[37mU…\u001b[0m                                                                              \n",
            "\u001b[37mAmrinder Gill, Jatinder \u001b[0m \u001b[38;2;40;100;40mDone              \u001b[0m \u001b[32m━━━━━━━━━━━━━━━━━━━━━━━\u001b[0m \u001b[32m100%\u001b[0m \u001b[38;2;40;100;40m0:00:00\u001b[0m\n",
            "\u001b[37mS…\u001b[0m                                                                              \n",
            "\u001b[37mAnkit Tiwari - Boond \u001b[0m    \u001b[38;2;40;100;40mDone              \u001b[0m \u001b[32m━━━━━━━━━━━━━━━━━━━━━━━\u001b[0m \u001b[32m100%\u001b[0m \u001b[38;2;40;100;40m0:00:00\u001b[0m\n",
            "\u001b[37mBoond\u001b[0m                                                                           \n",
            "\u001b[37mPritam, Arijit Singh - \u001b[0m  \u001b[38;2;40;100;40mDone              \u001b[0m \u001b[32m━━━━━━━━━━━━━━━━━━━━━━━\u001b[0m \u001b[32m100%\u001b[0m \u001b[38;2;40;100;40m0:00:00\u001b[0m\n",
            "\u001b[37mPh…\u001b[0m                                                                             \n",
            "\u001b[2K\u001b[1A\u001b[2K\u001b[1A\u001b[2K\u001b[1A\u001b[2K\u001b[1A\u001b[2K\u001b[1A\u001b[2K\u001b[1A\u001b[2K\u001b[1A\u001b[2K\u001b[1A\u001b[2K\u001b[1A\u001b[2K\u001b[1A\u001b[2K\u001b[1A\u001b[2K\u001b[1A\u001b[2K\u001b[1A\u001b[2K\u001b[1A\u001b[2K\u001b[1A\u001b[2K\u001b[1A\u001b[2K\u001b[1A\u001b[2K\u001b[1A\u001b[2K\u001b[1A\u001b[2K\u001b[1A\u001b[2K\u001b[1A\u001b[2K\u001b[1A\u001b[2K\u001b[1A\u001b[2K\u001b[1A\u001b[2K\u001b[37mTotal\u001b[0m                    \u001b[38;2;40;100;40m103/147 complete  \u001b[0m \u001b[38;2;165;66;129m━━━━━━━━━━━━━━━━━\u001b[0m\u001b[38;5;237m╺\u001b[0m\u001b[38;5;237m━━━━━\u001b[0m \u001b[32m 76%\u001b[0m \u001b[38;2;40;100;40m0:04:19\u001b[0m\n",
            "\u001b[37mShankar Mahadevan - Maa\u001b[0m  \u001b[38;2;40;100;40mDone              \u001b[0m \u001b[32m━━━━━━━━━━━━━━━━━━━━━━━\u001b[0m \u001b[32m100%\u001b[0m \u001b[38;2;40;100;40m0:00:00\u001b[0m\n",
            "\u001b[37mA.R. Rahman - Yeh Jo Des\u001b[0m \u001b[38;2;40;100;40mDone              \u001b[0m \u001b[32m━━━━━━━━━━━━━━━━━━━━━━━\u001b[0m \u001b[32m100%\u001b[0m \u001b[38;2;40;100;40m0:00:00\u001b[0m\n",
            "\u001b[37m…\u001b[0m                                                                               \n",
            "\u001b[37mHarshit Saxena - Hale \u001b[0m   \u001b[38;2;40;100;40mDone              \u001b[0m \u001b[32m━━━━━━━━━━━━━━━━━━━━━━━\u001b[0m \u001b[32m100%\u001b[0m \u001b[38;2;40;100;40m0:00:00\u001b[0m\n",
            "\u001b[37mDil\u001b[0m                                                                             \n",
            "\u001b[37mMadan Mohan, Lata \u001b[0m       \u001b[38;2;40;100;40mDone              \u001b[0m \u001b[32m━━━━━━━━━━━━━━━━━━━━━━━\u001b[0m \u001b[32m100%\u001b[0m \u001b[38;2;40;100;40m0:00:00\u001b[0m\n",
            "\u001b[37mMangesh…\u001b[0m                                                                        \n",
            "\u001b[37mPalak Muchhal, Arijit \u001b[0m   \u001b[38;2;40;100;40mDone              \u001b[0m \u001b[32m━━━━━━━━━━━━━━━━━━━━━━━\u001b[0m \u001b[32m100%\u001b[0m \u001b[38;2;40;100;40m0:00:00\u001b[0m\n",
            "\u001b[37mSin…\u001b[0m                                                                            \n",
            "\u001b[37mShaan, Shantanu Moitra -\u001b[0m \u001b[38;2;40;100;40mDone              \u001b[0m \u001b[32m━━━━━━━━━━━━━━━━━━━━━━━\u001b[0m \u001b[32m100%\u001b[0m \u001b[38;2;40;100;40m0:00:00\u001b[0m\n",
            "\u001b[37m…\u001b[0m                                                                               \n",
            "\u001b[37mMohit Chauhan, Suzanne \u001b[0m  \u001b[38;2;40;100;40mDone              \u001b[0m \u001b[32m━━━━━━━━━━━━━━━━━━━━━━━\u001b[0m \u001b[32m100%\u001b[0m \u001b[38;2;40;100;40m0:00:00\u001b[0m\n",
            "\u001b[37mD'…\u001b[0m                                                                             \n",
            "\u001b[37mA.R. Rahman, Javed Ali, \u001b[0m \u001b[38;2;40;100;40mDone              \u001b[0m \u001b[32m━━━━━━━━━━━━━━━━━━━━━━━\u001b[0m \u001b[32m100%\u001b[0m \u001b[38;2;40;100;40m0:00:00\u001b[0m\n",
            "\u001b[37mM…\u001b[0m                                                                              \n",
            "\u001b[37mMohit Chauhan - Phir Se \u001b[0m \u001b[38;2;40;100;40mDone              \u001b[0m \u001b[32m━━━━━━━━━━━━━━━━━━━━━━━\u001b[0m \u001b[32m100%\u001b[0m \u001b[38;2;40;100;40m0:00:00\u001b[0m\n",
            "\u001b[37mU…\u001b[0m                                                                              \n",
            "\u001b[37mAmrinder Gill, Jatinder \u001b[0m \u001b[38;2;40;100;40mDone              \u001b[0m \u001b[32m━━━━━━━━━━━━━━━━━━━━━━━\u001b[0m \u001b[32m100%\u001b[0m \u001b[38;2;40;100;40m0:00:00\u001b[0m\n",
            "\u001b[37mS…\u001b[0m                                                                              \n",
            "\u001b[37mAnkit Tiwari - Boond \u001b[0m    \u001b[38;2;40;100;40mDone              \u001b[0m \u001b[32m━━━━━━━━━━━━━━━━━━━━━━━\u001b[0m \u001b[32m100%\u001b[0m \u001b[38;2;40;100;40m0:00:00\u001b[0m\n",
            "\u001b[37mBoond\u001b[0m                                                                           \n",
            "\u001b[37mPritam, Arijit Singh - \u001b[0m  \u001b[38;2;40;100;40mDone              \u001b[0m \u001b[32m━━━━━━━━━━━━━━━━━━━━━━━\u001b[0m \u001b[32m100%\u001b[0m \u001b[38;2;40;100;40m0:00:00\u001b[0m\n",
            "\u001b[37mPh…\u001b[0m                                                                             \n",
            "\u001b[2K\u001b[1A\u001b[2K\u001b[1A\u001b[2K\u001b[1A\u001b[2K\u001b[1A\u001b[2K\u001b[1A\u001b[2K\u001b[1A\u001b[2K\u001b[1A\u001b[2K\u001b[1A\u001b[2K\u001b[1A\u001b[2K\u001b[1A\u001b[2K\u001b[1A\u001b[2K\u001b[1A\u001b[2K\u001b[1A\u001b[2K\u001b[1A\u001b[2K\u001b[1A\u001b[2K\u001b[1A\u001b[2K\u001b[1A\u001b[2K\u001b[1A\u001b[2K\u001b[1A\u001b[2K\u001b[1A\u001b[2K\u001b[1A\u001b[2K\u001b[1A\u001b[2K\u001b[1A\u001b[2K\u001b[1A\u001b[2K\u001b[37mTotal\u001b[0m                    \u001b[38;2;40;100;40m103/147 complete  \u001b[0m \u001b[38;2;165;66;129m━━━━━━━━━━━━━━━━━\u001b[0m\u001b[38;2;165;66;129m╸\u001b[0m\u001b[38;5;237m━━━━━\u001b[0m \u001b[32m 76%\u001b[0m \u001b[38;2;40;100;40m0:03:56\u001b[0m\n",
            "\u001b[37mShankar Mahadevan - Maa\u001b[0m  \u001b[38;2;40;100;40mDone              \u001b[0m \u001b[32m━━━━━━━━━━━━━━━━━━━━━━━\u001b[0m \u001b[32m100%\u001b[0m \u001b[38;2;40;100;40m0:00:00\u001b[0m\n",
            "\u001b[37mA.R. Rahman - Yeh Jo Des\u001b[0m \u001b[38;2;40;100;40mDone              \u001b[0m \u001b[32m━━━━━━━━━━━━━━━━━━━━━━━\u001b[0m \u001b[32m100%\u001b[0m \u001b[38;2;40;100;40m0:00:00\u001b[0m\n",
            "\u001b[37m…\u001b[0m                                                                               \n",
            "\u001b[37mHarshit Saxena - Hale \u001b[0m   \u001b[38;2;40;100;40mDone              \u001b[0m \u001b[32m━━━━━━━━━━━━━━━━━━━━━━━\u001b[0m \u001b[32m100%\u001b[0m \u001b[38;2;40;100;40m0:00:00\u001b[0m\n",
            "\u001b[37mDil\u001b[0m                                                                             \n",
            "\u001b[37mMadan Mohan, Lata \u001b[0m       \u001b[38;2;40;100;40mDone              \u001b[0m \u001b[32m━━━━━━━━━━━━━━━━━━━━━━━\u001b[0m \u001b[32m100%\u001b[0m \u001b[38;2;40;100;40m0:00:00\u001b[0m\n",
            "\u001b[37mMangesh…\u001b[0m                                                                        \n",
            "\u001b[37mPalak Muchhal, Arijit \u001b[0m   \u001b[38;2;40;100;40mDone              \u001b[0m \u001b[32m━━━━━━━━━━━━━━━━━━━━━━━\u001b[0m \u001b[32m100%\u001b[0m \u001b[38;2;40;100;40m0:00:00\u001b[0m\n",
            "\u001b[37mSin…\u001b[0m                                                                            \n",
            "\u001b[37mShaan, Shantanu Moitra -\u001b[0m \u001b[38;2;40;100;40mDone              \u001b[0m \u001b[32m━━━━━━━━━━━━━━━━━━━━━━━\u001b[0m \u001b[32m100%\u001b[0m \u001b[38;2;40;100;40m0:00:00\u001b[0m\n",
            "\u001b[37m…\u001b[0m                                                                               \n",
            "\u001b[37mMohit Chauhan, Suzanne \u001b[0m  \u001b[38;2;40;100;40mDone              \u001b[0m \u001b[32m━━━━━━━━━━━━━━━━━━━━━━━\u001b[0m \u001b[32m100%\u001b[0m \u001b[38;2;40;100;40m0:00:00\u001b[0m\n",
            "\u001b[37mD'…\u001b[0m                                                                             \n",
            "\u001b[37mA.R. Rahman, Javed Ali, \u001b[0m \u001b[38;2;40;100;40mDone              \u001b[0m \u001b[32m━━━━━━━━━━━━━━━━━━━━━━━\u001b[0m \u001b[32m100%\u001b[0m \u001b[38;2;40;100;40m0:00:00\u001b[0m\n",
            "\u001b[37mM…\u001b[0m                                                                              \n",
            "\u001b[37mMohit Chauhan - Phir Se \u001b[0m \u001b[38;2;40;100;40mDone              \u001b[0m \u001b[32m━━━━━━━━━━━━━━━━━━━━━━━\u001b[0m \u001b[32m100%\u001b[0m \u001b[38;2;40;100;40m0:00:00\u001b[0m\n",
            "\u001b[37mU…\u001b[0m                                                                              \n",
            "\u001b[37mAmrinder Gill, Jatinder \u001b[0m \u001b[38;2;40;100;40mDone              \u001b[0m \u001b[32m━━━━━━━━━━━━━━━━━━━━━━━\u001b[0m \u001b[32m100%\u001b[0m \u001b[38;2;40;100;40m0:00:00\u001b[0m\n",
            "\u001b[37mS…\u001b[0m                                                                              \n",
            "\u001b[37mAnkit Tiwari - Boond \u001b[0m    \u001b[38;2;40;100;40mDone              \u001b[0m \u001b[32m━━━━━━━━━━━━━━━━━━━━━━━\u001b[0m \u001b[32m100%\u001b[0m \u001b[38;2;40;100;40m0:00:00\u001b[0m\n",
            "\u001b[37mBoond\u001b[0m                                                                           \n",
            "\u001b[37mPritam, Arijit Singh - \u001b[0m  \u001b[38;2;40;100;40mDone              \u001b[0m \u001b[32m━━━━━━━━━━━━━━━━━━━━━━━\u001b[0m \u001b[32m100%\u001b[0m \u001b[38;2;40;100;40m0:00:00\u001b[0m\n",
            "\u001b[37mPh…\u001b[0m                                                                             \n",
            "\u001b[1;31m                                      ...                                       \u001b[0m"
          ]
        }
      ]
    }
  ]
}